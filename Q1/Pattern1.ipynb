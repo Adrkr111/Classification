{
 "cells": [
  {
   "cell_type": "code",
   "execution_count": 163,
   "metadata": {},
   "outputs": [],
   "source": [
    "def pattern1():\n",
    "    n=input()\n",
    "    n=int(n)\n",
    "    ol=[0 for i in range(0,n)]\n",
    "    l=[]\n",
    "    c=1\n",
    "    e=c+n\n",
    "    ss=n*(n+1)\n",
    "    lc=ss-n+1\n",
    "    le=ss+1\n",
    "    for i in range(0,n):\n",
    "        l1=list(range(c,e))\n",
    "        l2=list(range(lc,le))\n",
    "        lc=l2[0]-(n-1-i)\n",
    "        le=lc+(n-1)-i\n",
    "        c=l1[-1]+1\n",
    "        e=c+n-1-i\n",
    "        l3=l1+l2\n",
    "        l.append(l3)\n",
    "    for i in range(0,len(l)):\n",
    "        l[i]=str(l[i]).replace('[','')\n",
    "        l[i]=str(l[i]).replace(']','')\n",
    "        l[i]=str(l[i]).replace(',','')\n",
    "        l[i]=str(l[i]).replace(' ','*')\n",
    "        c=' '*(2*i)\n",
    "        print(c+l[i])    "
   ]
  },
  {
   "cell_type": "code",
   "execution_count": 164,
   "metadata": {},
   "outputs": [
    {
     "name": "stdout",
     "output_type": "stream",
     "text": [
      "4\n",
      "1*2*3*4*17*18*19*20\n",
      "  5*6*7*14*15*16\n",
      "    8*9*12*13\n",
      "      10*11\n"
     ]
    }
   ],
   "source": [
    "pattern1()\n",
    "        "
   ]
  },
  {
   "cell_type": "code",
   "execution_count": 165,
   "metadata": {},
   "outputs": [
    {
     "name": "stdout",
     "output_type": "stream",
     "text": [
      "5\n",
      "1*2*3*4*5*26*27*28*29*30\n",
      "  6*7*8*9*22*23*24*25\n",
      "    10*11*12*19*20*21\n",
      "      13*14*17*18\n",
      "        15*16\n"
     ]
    }
   ],
   "source": [
    "pattern1()"
   ]
  },
  {
   "cell_type": "code",
   "execution_count": 167,
   "metadata": {},
   "outputs": [
    {
     "name": "stdout",
     "output_type": "stream",
     "text": [
      "2\n",
      "1*2*5*6\n",
      "  3*4\n"
     ]
    }
   ],
   "source": [
    "pattern1()"
   ]
  },
  {
   "cell_type": "code",
   "execution_count": 168,
   "metadata": {},
   "outputs": [
    {
     "name": "stdout",
     "output_type": "stream",
     "text": [
      "3\n",
      "1*2*3*10*11*12\n",
      "  4*5*8*9\n",
      "    6*7\n"
     ]
    }
   ],
   "source": [
    "pattern1()"
   ]
  },
  {
   "cell_type": "code",
   "execution_count": null,
   "metadata": {},
   "outputs": [],
   "source": []
  }
 ],
 "metadata": {
  "kernelspec": {
   "display_name": "Python 3",
   "language": "python",
   "name": "python3"
  },
  "language_info": {
   "codemirror_mode": {
    "name": "ipython",
    "version": 3
   },
   "file_extension": ".py",
   "mimetype": "text/x-python",
   "name": "python",
   "nbconvert_exporter": "python",
   "pygments_lexer": "ipython3",
   "version": "3.7.3"
  }
 },
 "nbformat": 4,
 "nbformat_minor": 2
}
